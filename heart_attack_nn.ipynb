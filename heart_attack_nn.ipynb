{
  "cells": [
    {
      "cell_type": "markdown",
      "metadata": {
        "id": "wkiF36iL3rZU"
      },
      "source": [
        "# Heart Attack"
      ]
    },
    {
      "cell_type": "markdown",
      "metadata": {
        "id": "RAH2KJEO3rZY"
      },
      "source": [
        "## Data Exploration and Preparation"
      ]
    },
    {
      "cell_type": "markdown",
      "metadata": {
        "id": "rfJwXOIp3rZZ"
      },
      "source": [
        "- Age: Age of the patient\n",
        "\n",
        "- Sex: Sex of the patient\n",
        "\n",
        "- exng: exercise induced angina (1 = yes; 0 = no)\n",
        "\n",
        "- ca: number of major vessels (0-3)\n",
        "\n",
        "- cp: Chest Pain type\n",
        "    - Value 1: typical angina\n",
        "    - Value 2: atypical angina\n",
        "    - Value 3: non-anginal pain\n",
        "    - Value 4: asymptomatic\n",
        "\n",
        "- trtbps: resting blood pressure (in mm Hg)\n",
        "\n",
        "- chol: cholestoral in mg/dl fetched via BMI sensor\n",
        "\n",
        "- fbs: (fasting blood sugar > 120 mg/dl) (1 = true; 0 = false)\n",
        "\n",
        "- rest_ecg: resting electrocardiographic results\n",
        "    - Value 0: normal\n",
        "    - Value 1: having ST-T wave abnormality (T wave inversions and/or ST elevation or depression of > 0.05 mV)\n",
        "    - Value 2: showing probable or definite left ventricular hypertrophy by Estes' criteria\n",
        "\n",
        "- thalach: maximum heart rate achieved\n",
        "\n",
        "- Target variable: 0 = less chance of heart attack, 1 = more chance of heart attack"
      ]
    },
    {
      "cell_type": "code",
      "execution_count": 6,
      "metadata": {
        "id": "yukgRUT73rZa"
      },
      "outputs": [],
      "source": [
        "import pandas as pd\n",
        "import matplotlib.pyplot as plt\n",
        "import seaborn as sns\n",
        "import numpy as np\n",
        "from sklearn.linear_model import Lasso, LogisticRegression\n",
        "from sklearn.model_selection import GridSearchCV, RandomizedSearchCV, train_test_split, KFold, cross_val_score\n",
        "from sklearn.neighbors import KNeighborsClassifier\n",
        "from sklearn.ensemble import RandomForestClassifier\n",
        "from sklearn.metrics import confusion_matrix, classification_report, recall_score"
      ]
    },
    {
      "cell_type": "code",
      "execution_count": 7,
      "metadata": {
        "id": "4IV6pAzj3rZc"
      },
      "outputs": [],
      "source": [
        "df = pd.read_csv('content/heart.csv')"
      ]
    },
    {
      "cell_type": "code",
      "execution_count": 8,
      "metadata": {
        "colab": {
          "base_uri": "https://localhost:8080/",
          "height": 206
        },
        "id": "jxq8j0iV3rZd",
        "outputId": "fdf1bf09-8f29-4423-e20e-5791bad2d279"
      },
      "outputs": [
        {
          "data": {
            "text/html": [
              "<div>\n",
              "<style scoped>\n",
              "    .dataframe tbody tr th:only-of-type {\n",
              "        vertical-align: middle;\n",
              "    }\n",
              "\n",
              "    .dataframe tbody tr th {\n",
              "        vertical-align: top;\n",
              "    }\n",
              "\n",
              "    .dataframe thead th {\n",
              "        text-align: right;\n",
              "    }\n",
              "</style>\n",
              "<table border=\"1\" class=\"dataframe\">\n",
              "  <thead>\n",
              "    <tr style=\"text-align: right;\">\n",
              "      <th></th>\n",
              "      <th>age</th>\n",
              "      <th>sex</th>\n",
              "      <th>cp</th>\n",
              "      <th>trtbps</th>\n",
              "      <th>chol</th>\n",
              "      <th>fbs</th>\n",
              "      <th>restecg</th>\n",
              "      <th>thalachh</th>\n",
              "      <th>exng</th>\n",
              "      <th>oldpeak</th>\n",
              "      <th>slp</th>\n",
              "      <th>caa</th>\n",
              "      <th>thall</th>\n",
              "      <th>output</th>\n",
              "    </tr>\n",
              "  </thead>\n",
              "  <tbody>\n",
              "    <tr>\n",
              "      <th>0</th>\n",
              "      <td>63</td>\n",
              "      <td>1</td>\n",
              "      <td>3</td>\n",
              "      <td>145</td>\n",
              "      <td>233</td>\n",
              "      <td>1</td>\n",
              "      <td>0</td>\n",
              "      <td>150</td>\n",
              "      <td>0</td>\n",
              "      <td>2.3</td>\n",
              "      <td>0</td>\n",
              "      <td>0</td>\n",
              "      <td>1</td>\n",
              "      <td>1</td>\n",
              "    </tr>\n",
              "    <tr>\n",
              "      <th>1</th>\n",
              "      <td>37</td>\n",
              "      <td>1</td>\n",
              "      <td>2</td>\n",
              "      <td>130</td>\n",
              "      <td>250</td>\n",
              "      <td>0</td>\n",
              "      <td>1</td>\n",
              "      <td>187</td>\n",
              "      <td>0</td>\n",
              "      <td>3.5</td>\n",
              "      <td>0</td>\n",
              "      <td>0</td>\n",
              "      <td>2</td>\n",
              "      <td>1</td>\n",
              "    </tr>\n",
              "    <tr>\n",
              "      <th>2</th>\n",
              "      <td>41</td>\n",
              "      <td>0</td>\n",
              "      <td>1</td>\n",
              "      <td>130</td>\n",
              "      <td>204</td>\n",
              "      <td>0</td>\n",
              "      <td>0</td>\n",
              "      <td>172</td>\n",
              "      <td>0</td>\n",
              "      <td>1.4</td>\n",
              "      <td>2</td>\n",
              "      <td>0</td>\n",
              "      <td>2</td>\n",
              "      <td>1</td>\n",
              "    </tr>\n",
              "    <tr>\n",
              "      <th>3</th>\n",
              "      <td>56</td>\n",
              "      <td>1</td>\n",
              "      <td>1</td>\n",
              "      <td>120</td>\n",
              "      <td>236</td>\n",
              "      <td>0</td>\n",
              "      <td>1</td>\n",
              "      <td>178</td>\n",
              "      <td>0</td>\n",
              "      <td>0.8</td>\n",
              "      <td>2</td>\n",
              "      <td>0</td>\n",
              "      <td>2</td>\n",
              "      <td>1</td>\n",
              "    </tr>\n",
              "    <tr>\n",
              "      <th>4</th>\n",
              "      <td>57</td>\n",
              "      <td>0</td>\n",
              "      <td>0</td>\n",
              "      <td>120</td>\n",
              "      <td>354</td>\n",
              "      <td>0</td>\n",
              "      <td>1</td>\n",
              "      <td>163</td>\n",
              "      <td>1</td>\n",
              "      <td>0.6</td>\n",
              "      <td>2</td>\n",
              "      <td>0</td>\n",
              "      <td>2</td>\n",
              "      <td>1</td>\n",
              "    </tr>\n",
              "  </tbody>\n",
              "</table>\n",
              "</div>"
            ],
            "text/plain": [
              "   age  sex  cp  trtbps  chol  fbs  restecg  thalachh  exng  oldpeak  slp  \\\n",
              "0   63    1   3     145   233    1        0       150     0      2.3    0   \n",
              "1   37    1   2     130   250    0        1       187     0      3.5    0   \n",
              "2   41    0   1     130   204    0        0       172     0      1.4    2   \n",
              "3   56    1   1     120   236    0        1       178     0      0.8    2   \n",
              "4   57    0   0     120   354    0        1       163     1      0.6    2   \n",
              "\n",
              "   caa  thall  output  \n",
              "0    0      1       1  \n",
              "1    0      2       1  \n",
              "2    0      2       1  \n",
              "3    0      2       1  \n",
              "4    0      2       1  "
            ]
          },
          "execution_count": 8,
          "metadata": {},
          "output_type": "execute_result"
        }
      ],
      "source": [
        "df.head()"
      ]
    },
    {
      "cell_type": "code",
      "execution_count": 9,
      "metadata": {
        "colab": {
          "base_uri": "https://localhost:8080/"
        },
        "id": "p1fRchvS3rZe",
        "outputId": "c1fd0c25-4f73-47f8-9889-0cea2ae18ceb"
      },
      "outputs": [
        {
          "name": "stdout",
          "output_type": "stream",
          "text": [
            "<class 'pandas.core.frame.DataFrame'>\n",
            "RangeIndex: 303 entries, 0 to 302\n",
            "Data columns (total 14 columns):\n",
            " #   Column    Non-Null Count  Dtype  \n",
            "---  ------    --------------  -----  \n",
            " 0   age       303 non-null    int64  \n",
            " 1   sex       303 non-null    int64  \n",
            " 2   cp        303 non-null    int64  \n",
            " 3   trtbps    303 non-null    int64  \n",
            " 4   chol      303 non-null    int64  \n",
            " 5   fbs       303 non-null    int64  \n",
            " 6   restecg   303 non-null    int64  \n",
            " 7   thalachh  303 non-null    int64  \n",
            " 8   exng      303 non-null    int64  \n",
            " 9   oldpeak   303 non-null    float64\n",
            " 10  slp       303 non-null    int64  \n",
            " 11  caa       303 non-null    int64  \n",
            " 12  thall     303 non-null    int64  \n",
            " 13  output    303 non-null    int64  \n",
            "dtypes: float64(1), int64(13)\n",
            "memory usage: 33.3 KB\n"
          ]
        }
      ],
      "source": [
        "df.info()"
      ]
    },
    {
      "cell_type": "code",
      "execution_count": 10,
      "metadata": {
        "colab": {
          "base_uri": "https://localhost:8080/",
          "height": 523
        },
        "id": "BjOXAs-33rZf",
        "outputId": "f0bfe57a-86eb-47e2-d658-c679a1880053"
      },
      "outputs": [
        {
          "data": {
            "text/plain": [
              "age         0\n",
              "sex         0\n",
              "cp          0\n",
              "trtbps      0\n",
              "chol        0\n",
              "fbs         0\n",
              "restecg     0\n",
              "thalachh    0\n",
              "exng        0\n",
              "oldpeak     0\n",
              "slp         0\n",
              "caa         0\n",
              "thall       0\n",
              "output      0\n",
              "dtype: int64"
            ]
          },
          "execution_count": 10,
          "metadata": {},
          "output_type": "execute_result"
        }
      ],
      "source": [
        "df.isna().sum()"
      ]
    },
    {
      "cell_type": "code",
      "execution_count": 11,
      "metadata": {
        "colab": {
          "base_uri": "https://localhost:8080/",
          "height": 81
        },
        "id": "zzquFC-33rZg",
        "outputId": "5a271895-24ff-49e6-e670-0f53a18799bc"
      },
      "outputs": [
        {
          "data": {
            "text/html": [
              "<div>\n",
              "<style scoped>\n",
              "    .dataframe tbody tr th:only-of-type {\n",
              "        vertical-align: middle;\n",
              "    }\n",
              "\n",
              "    .dataframe tbody tr th {\n",
              "        vertical-align: top;\n",
              "    }\n",
              "\n",
              "    .dataframe thead th {\n",
              "        text-align: right;\n",
              "    }\n",
              "</style>\n",
              "<table border=\"1\" class=\"dataframe\">\n",
              "  <thead>\n",
              "    <tr style=\"text-align: right;\">\n",
              "      <th></th>\n",
              "      <th>age</th>\n",
              "      <th>sex</th>\n",
              "      <th>cp</th>\n",
              "      <th>trtbps</th>\n",
              "      <th>chol</th>\n",
              "      <th>fbs</th>\n",
              "      <th>restecg</th>\n",
              "      <th>thalachh</th>\n",
              "      <th>exng</th>\n",
              "      <th>oldpeak</th>\n",
              "      <th>slp</th>\n",
              "      <th>caa</th>\n",
              "      <th>thall</th>\n",
              "      <th>output</th>\n",
              "    </tr>\n",
              "  </thead>\n",
              "  <tbody>\n",
              "    <tr>\n",
              "      <th>164</th>\n",
              "      <td>38</td>\n",
              "      <td>1</td>\n",
              "      <td>2</td>\n",
              "      <td>138</td>\n",
              "      <td>175</td>\n",
              "      <td>0</td>\n",
              "      <td>1</td>\n",
              "      <td>173</td>\n",
              "      <td>0</td>\n",
              "      <td>0.0</td>\n",
              "      <td>2</td>\n",
              "      <td>4</td>\n",
              "      <td>2</td>\n",
              "      <td>1</td>\n",
              "    </tr>\n",
              "  </tbody>\n",
              "</table>\n",
              "</div>"
            ],
            "text/plain": [
              "     age  sex  cp  trtbps  chol  fbs  restecg  thalachh  exng  oldpeak  slp  \\\n",
              "164   38    1   2     138   175    0        1       173     0      0.0    2   \n",
              "\n",
              "     caa  thall  output  \n",
              "164    4      2       1  "
            ]
          },
          "execution_count": 11,
          "metadata": {},
          "output_type": "execute_result"
        }
      ],
      "source": [
        "df[df.duplicated() == True]"
      ]
    },
    {
      "cell_type": "code",
      "execution_count": 12,
      "metadata": {
        "id": "rcUjrP3M3rZh"
      },
      "outputs": [],
      "source": [
        "df = df.drop_duplicates(keep = 'first')"
      ]
    },
    {
      "cell_type": "code",
      "execution_count": 13,
      "metadata": {
        "colab": {
          "base_uri": "https://localhost:8080/",
          "height": 320
        },
        "id": "Oz4WS0Jg3rZh",
        "outputId": "9efeec63-339d-458c-a584-b51b33497ca4"
      },
      "outputs": [
        {
          "data": {
            "text/html": [
              "<div>\n",
              "<style scoped>\n",
              "    .dataframe tbody tr th:only-of-type {\n",
              "        vertical-align: middle;\n",
              "    }\n",
              "\n",
              "    .dataframe tbody tr th {\n",
              "        vertical-align: top;\n",
              "    }\n",
              "\n",
              "    .dataframe thead th {\n",
              "        text-align: right;\n",
              "    }\n",
              "</style>\n",
              "<table border=\"1\" class=\"dataframe\">\n",
              "  <thead>\n",
              "    <tr style=\"text-align: right;\">\n",
              "      <th></th>\n",
              "      <th>age</th>\n",
              "      <th>sex</th>\n",
              "      <th>cp</th>\n",
              "      <th>trtbps</th>\n",
              "      <th>chol</th>\n",
              "      <th>fbs</th>\n",
              "      <th>restecg</th>\n",
              "      <th>thalachh</th>\n",
              "      <th>exng</th>\n",
              "      <th>oldpeak</th>\n",
              "      <th>slp</th>\n",
              "      <th>caa</th>\n",
              "      <th>thall</th>\n",
              "      <th>output</th>\n",
              "    </tr>\n",
              "  </thead>\n",
              "  <tbody>\n",
              "    <tr>\n",
              "      <th>count</th>\n",
              "      <td>302.00000</td>\n",
              "      <td>302.000000</td>\n",
              "      <td>302.000000</td>\n",
              "      <td>302.000000</td>\n",
              "      <td>302.000000</td>\n",
              "      <td>302.000000</td>\n",
              "      <td>302.000000</td>\n",
              "      <td>302.000000</td>\n",
              "      <td>302.000000</td>\n",
              "      <td>302.000000</td>\n",
              "      <td>302.000000</td>\n",
              "      <td>302.000000</td>\n",
              "      <td>302.000000</td>\n",
              "      <td>302.000000</td>\n",
              "    </tr>\n",
              "    <tr>\n",
              "      <th>mean</th>\n",
              "      <td>54.42053</td>\n",
              "      <td>0.682119</td>\n",
              "      <td>0.963576</td>\n",
              "      <td>131.602649</td>\n",
              "      <td>246.500000</td>\n",
              "      <td>0.149007</td>\n",
              "      <td>0.526490</td>\n",
              "      <td>149.569536</td>\n",
              "      <td>0.327815</td>\n",
              "      <td>1.043046</td>\n",
              "      <td>1.397351</td>\n",
              "      <td>0.718543</td>\n",
              "      <td>2.314570</td>\n",
              "      <td>0.543046</td>\n",
              "    </tr>\n",
              "    <tr>\n",
              "      <th>std</th>\n",
              "      <td>9.04797</td>\n",
              "      <td>0.466426</td>\n",
              "      <td>1.032044</td>\n",
              "      <td>17.563394</td>\n",
              "      <td>51.753489</td>\n",
              "      <td>0.356686</td>\n",
              "      <td>0.526027</td>\n",
              "      <td>22.903527</td>\n",
              "      <td>0.470196</td>\n",
              "      <td>1.161452</td>\n",
              "      <td>0.616274</td>\n",
              "      <td>1.006748</td>\n",
              "      <td>0.613026</td>\n",
              "      <td>0.498970</td>\n",
              "    </tr>\n",
              "    <tr>\n",
              "      <th>min</th>\n",
              "      <td>29.00000</td>\n",
              "      <td>0.000000</td>\n",
              "      <td>0.000000</td>\n",
              "      <td>94.000000</td>\n",
              "      <td>126.000000</td>\n",
              "      <td>0.000000</td>\n",
              "      <td>0.000000</td>\n",
              "      <td>71.000000</td>\n",
              "      <td>0.000000</td>\n",
              "      <td>0.000000</td>\n",
              "      <td>0.000000</td>\n",
              "      <td>0.000000</td>\n",
              "      <td>0.000000</td>\n",
              "      <td>0.000000</td>\n",
              "    </tr>\n",
              "    <tr>\n",
              "      <th>25%</th>\n",
              "      <td>48.00000</td>\n",
              "      <td>0.000000</td>\n",
              "      <td>0.000000</td>\n",
              "      <td>120.000000</td>\n",
              "      <td>211.000000</td>\n",
              "      <td>0.000000</td>\n",
              "      <td>0.000000</td>\n",
              "      <td>133.250000</td>\n",
              "      <td>0.000000</td>\n",
              "      <td>0.000000</td>\n",
              "      <td>1.000000</td>\n",
              "      <td>0.000000</td>\n",
              "      <td>2.000000</td>\n",
              "      <td>0.000000</td>\n",
              "    </tr>\n",
              "    <tr>\n",
              "      <th>50%</th>\n",
              "      <td>55.50000</td>\n",
              "      <td>1.000000</td>\n",
              "      <td>1.000000</td>\n",
              "      <td>130.000000</td>\n",
              "      <td>240.500000</td>\n",
              "      <td>0.000000</td>\n",
              "      <td>1.000000</td>\n",
              "      <td>152.500000</td>\n",
              "      <td>0.000000</td>\n",
              "      <td>0.800000</td>\n",
              "      <td>1.000000</td>\n",
              "      <td>0.000000</td>\n",
              "      <td>2.000000</td>\n",
              "      <td>1.000000</td>\n",
              "    </tr>\n",
              "    <tr>\n",
              "      <th>75%</th>\n",
              "      <td>61.00000</td>\n",
              "      <td>1.000000</td>\n",
              "      <td>2.000000</td>\n",
              "      <td>140.000000</td>\n",
              "      <td>274.750000</td>\n",
              "      <td>0.000000</td>\n",
              "      <td>1.000000</td>\n",
              "      <td>166.000000</td>\n",
              "      <td>1.000000</td>\n",
              "      <td>1.600000</td>\n",
              "      <td>2.000000</td>\n",
              "      <td>1.000000</td>\n",
              "      <td>3.000000</td>\n",
              "      <td>1.000000</td>\n",
              "    </tr>\n",
              "    <tr>\n",
              "      <th>max</th>\n",
              "      <td>77.00000</td>\n",
              "      <td>1.000000</td>\n",
              "      <td>3.000000</td>\n",
              "      <td>200.000000</td>\n",
              "      <td>564.000000</td>\n",
              "      <td>1.000000</td>\n",
              "      <td>2.000000</td>\n",
              "      <td>202.000000</td>\n",
              "      <td>1.000000</td>\n",
              "      <td>6.200000</td>\n",
              "      <td>2.000000</td>\n",
              "      <td>4.000000</td>\n",
              "      <td>3.000000</td>\n",
              "      <td>1.000000</td>\n",
              "    </tr>\n",
              "  </tbody>\n",
              "</table>\n",
              "</div>"
            ],
            "text/plain": [
              "             age         sex          cp      trtbps        chol         fbs  \\\n",
              "count  302.00000  302.000000  302.000000  302.000000  302.000000  302.000000   \n",
              "mean    54.42053    0.682119    0.963576  131.602649  246.500000    0.149007   \n",
              "std      9.04797    0.466426    1.032044   17.563394   51.753489    0.356686   \n",
              "min     29.00000    0.000000    0.000000   94.000000  126.000000    0.000000   \n",
              "25%     48.00000    0.000000    0.000000  120.000000  211.000000    0.000000   \n",
              "50%     55.50000    1.000000    1.000000  130.000000  240.500000    0.000000   \n",
              "75%     61.00000    1.000000    2.000000  140.000000  274.750000    0.000000   \n",
              "max     77.00000    1.000000    3.000000  200.000000  564.000000    1.000000   \n",
              "\n",
              "          restecg    thalachh        exng     oldpeak         slp         caa  \\\n",
              "count  302.000000  302.000000  302.000000  302.000000  302.000000  302.000000   \n",
              "mean     0.526490  149.569536    0.327815    1.043046    1.397351    0.718543   \n",
              "std      0.526027   22.903527    0.470196    1.161452    0.616274    1.006748   \n",
              "min      0.000000   71.000000    0.000000    0.000000    0.000000    0.000000   \n",
              "25%      0.000000  133.250000    0.000000    0.000000    1.000000    0.000000   \n",
              "50%      1.000000  152.500000    0.000000    0.800000    1.000000    0.000000   \n",
              "75%      1.000000  166.000000    1.000000    1.600000    2.000000    1.000000   \n",
              "max      2.000000  202.000000    1.000000    6.200000    2.000000    4.000000   \n",
              "\n",
              "            thall      output  \n",
              "count  302.000000  302.000000  \n",
              "mean     2.314570    0.543046  \n",
              "std      0.613026    0.498970  \n",
              "min      0.000000    0.000000  \n",
              "25%      2.000000    0.000000  \n",
              "50%      2.000000    1.000000  \n",
              "75%      3.000000    1.000000  \n",
              "max      3.000000    1.000000  "
            ]
          },
          "execution_count": 13,
          "metadata": {},
          "output_type": "execute_result"
        }
      ],
      "source": [
        "# check for outliers\n",
        "df.describe()"
      ]
    },
    {
      "cell_type": "code",
      "execution_count": 14,
      "metadata": {
        "colab": {
          "base_uri": "https://localhost:8080/",
          "height": 53
        },
        "id": "NG8gCy8e3rZi",
        "outputId": "a635a381-33cb-4857-f44b-375ce9c7f46f"
      },
      "outputs": [
        {
          "data": {
            "text/html": [
              "<div>\n",
              "<style scoped>\n",
              "    .dataframe tbody tr th:only-of-type {\n",
              "        vertical-align: middle;\n",
              "    }\n",
              "\n",
              "    .dataframe tbody tr th {\n",
              "        vertical-align: top;\n",
              "    }\n",
              "\n",
              "    .dataframe thead th {\n",
              "        text-align: right;\n",
              "    }\n",
              "</style>\n",
              "<table border=\"1\" class=\"dataframe\">\n",
              "  <thead>\n",
              "    <tr style=\"text-align: right;\">\n",
              "      <th></th>\n",
              "      <th>age</th>\n",
              "      <th>sex</th>\n",
              "      <th>cp</th>\n",
              "      <th>trtbps</th>\n",
              "      <th>chol</th>\n",
              "      <th>fbs</th>\n",
              "      <th>restecg</th>\n",
              "      <th>thalachh</th>\n",
              "      <th>exng</th>\n",
              "      <th>oldpeak</th>\n",
              "      <th>slp</th>\n",
              "      <th>caa</th>\n",
              "      <th>thall</th>\n",
              "      <th>output</th>\n",
              "    </tr>\n",
              "  </thead>\n",
              "  <tbody>\n",
              "  </tbody>\n",
              "</table>\n",
              "</div>"
            ],
            "text/plain": [
              "Empty DataFrame\n",
              "Columns: [age, sex, cp, trtbps, chol, fbs, restecg, thalachh, exng, oldpeak, slp, caa, thall, output]\n",
              "Index: []"
            ]
          },
          "execution_count": 14,
          "metadata": {},
          "output_type": "execute_result"
        }
      ],
      "source": [
        "# check for outliers in the target column\n",
        "df[(df['output'] != 0) & (df['output'] != 1)]"
      ]
    },
    {
      "cell_type": "markdown",
      "metadata": {
        "id": "HBUxUa2w3rZj"
      },
      "source": [
        "## Data Distribution"
      ]
    },
    {
      "cell_type": "code",
      "execution_count": 15,
      "metadata": {
        "colab": {
          "base_uri": "https://localhost:8080/",
          "height": 485
        },
        "id": "n_v6moWb3rZj",
        "outputId": "85df4271-84cb-4d7a-aac4-ef501ca14e56"
      },
      "outputs": [
        {
          "data": {
            "text/plain": [
              "(array([138.,   0.,   0.,   0.,   0.,   0.,   0.,   0.,   0., 164.]),\n",
              " array([0. , 0.1, 0.2, 0.3, 0.4, 0.5, 0.6, 0.7, 0.8, 0.9, 1. ]),\n",
              " <BarContainer object of 10 artists>)"
            ]
          },
          "execution_count": 15,
          "metadata": {},
          "output_type": "execute_result"
        },
        {
          "data": {
            "image/png": "[encoded data removed]",
            "text/plain": [
              "<Figure size 640x480 with 1 Axes>"
            ]
          },
          "metadata": {},
          "output_type": "display_data"
        }
      ],
      "source": [
        "plt.hist(df['output'])"
      ]
    },
    {
      "cell_type": "markdown",
      "metadata": {
        "id": "TUsXhQ843rZk"
      },
      "source": [
        "Hence, balanced dataset"
      ]
    },
    {
      "cell_type": "code",
      "execution_count": 16,
      "metadata": {
        "colab": {
          "base_uri": "https://localhost:8080/",
          "height": 517
        },
        "id": "-I2Sfcrk3rZk",
        "outputId": "159c310f-5a63-4c2b-9ab4-e9c2de3e5180"
      },
      "outputs": [
        {
          "data": {
            "text/plain": [
              "Text(0.5, 1.0, 'Correlation Heatmap')"
            ]
          },
          "execution_count": 16,
          "metadata": {},
          "output_type": "execute_result"
        },
        {
          "data": {
            "image/png": "[encoded data removed]",
            "text/plain": [
              "<Figure size 640x480 with 2 Axes>"
            ]
          },
          "metadata": {},
          "output_type": "display_data"
        }
      ],
      "source": [
        "sns.heatmap(df.drop(columns = 'output').corr(), cmap = 'RdYlGn', vmin=0, vmax=1)\n",
        "plt.title('Correlation Heatmap')"
      ]
    },
    {
      "cell_type": "markdown",
      "metadata": {
        "id": "QwibnUH8TMNT"
      },
      "source": [
        "We can use this correlation graph to search for features which linearly depend on each other to prevent multicollinearity. However, there is none here."
      ]
    },
    {
      "cell_type": "markdown",
      "metadata": {
        "id": "nmTsJU373rZl"
      },
      "source": [
        "## Feature Selection"
      ]
    },
    {
      "cell_type": "markdown",
      "metadata": {
        "id": "o_i0zPhPT5ok"
      },
      "source": [
        "### Split data"
      ]
    },
    {
      "cell_type": "code",
      "execution_count": 17,
      "metadata": {
        "id": "IEUevgw4T4zj"
      },
      "outputs": [],
      "source": [
        "X = df.drop(columns = 'output')\n",
        "y = df['output']\n",
        "X_train, X_test, y_train, y_test = train_test_split(X, y, test_size = 0.3, random_state = 42, stratify = y)"
      ]
    },
    {
      "cell_type": "markdown",
      "metadata": {
        "id": "0SeRarUIT4KR"
      },
      "source": [
        "### Using GridSearchCV to find best parameter for Lasso Regression"
      ]
    },
    {
      "cell_type": "code",
      "execution_count": 18,
      "metadata": {
        "colab": {
          "base_uri": "https://localhost:8080/"
        },
        "id": "nKLrgirn3rZl",
        "outputId": "a7b52760-e6a4-4d20-a4c4-2cc3743f1e91"
      },
      "outputs": [
        {
          "name": "stdout",
          "output_type": "stream",
          "text": [
            "Best Alpha for Lasso Regression: 1e-05\n"
          ]
        }
      ],
      "source": [
        "X_feature = X_train.values\n",
        "y_feature = y_train.values\n",
        "names = df.drop(columns = 'output').columns\n",
        "\n",
        "params = {\"alpha\": np.linspace(0.00001, 10, 500)}\n",
        "\n",
        "kf = KFold(n_splits = 5, shuffle = True, random_state = 2024)\n",
        "\n",
        "lasso = Lasso()\n",
        "lasso_cv = GridSearchCV(lasso, param_grid = params, cv = kf)\n",
        "lasso_cv.fit(X_train, y_train)\n",
        "print(f\"Best Alpha for Lasso Regression: {lasso_cv.best_params_['alpha']}\")"
      ]
    },
    {
      "cell_type": "markdown",
      "metadata": {
        "id": "lUt6Mu7j3rZl"
      },
      "source": [
        "### Plot Feature Selection"
      ]
    },
    {
      "cell_type": "code",
      "execution_count": 19,
      "metadata": {
        "colab": {
          "base_uri": "https://localhost:8080/",
          "height": 583
        },
        "id": "h3k8Bs3Z3rZm",
        "outputId": "ce61bbb5-f375-4e48-dc26-a7b84d5c9c83"
      },
      "outputs": [
        {
          "data": {
            "image/png": "[encoded data removed]",
            "text/plain": [
              "<Figure size 1000x600 with 1 Axes>"
            ]
          },
          "metadata": {},
          "output_type": "display_data"
        }
      ],
      "source": [
        "lasso = Lasso(alpha = 0.00001)\n",
        "lasso.fit(X_feature, y_feature)\n",
        "lasso_coef = lasso.coef_\n",
        "\n",
        "plt.figure(figsize=(10, 6))\n",
        "plt.bar(names, lasso_coef, color = 'pink')\n",
        "plt.yticks(np.arange(-0.6, 0.6, 0.10))\n",
        "plt.grid()\n",
        "plt.title('Lasso Feature Selection')\n",
        "plt.xticks(rotation=45)\n",
        "plt.show()"
      ]
    },
    {
      "cell_type": "code",
      "execution_count": 20,
      "metadata": {
        "colab": {
          "base_uri": "https://localhost:8080/"
        },
        "id": "tLuA0sbzfLnJ",
        "outputId": "747f2a7e-9eeb-4155-b7aa-cc21453961c0"
      },
      "outputs": [
        {
          "name": "stdout",
          "output_type": "stream",
          "text": [
            "     Feature  Lasso Coefficient\n",
            "1        sex          -0.174284\n",
            "8       exng          -0.155892\n",
            "12     thall          -0.140346\n",
            "11       caa          -0.079635\n",
            "9    oldpeak          -0.065090\n",
            "3     trtbps          -0.001229\n",
            "4       chol          -0.000904\n",
            "0        age           0.000190\n",
            "7   thalachh           0.002946\n",
            "5        fbs           0.019464\n",
            "6    restecg           0.036528\n",
            "10       slp           0.071456\n",
            "2         cp           0.136677\n"
          ]
        }
      ],
      "source": [
        "lasso_df = pd.DataFrame({'Feature': names, 'Lasso Coefficient': lasso_coef})\n",
        "print(lasso_df.sort_values(by = 'Lasso Coefficient'))"
      ]
    },
    {
      "cell_type": "markdown",
      "metadata": {
        "id": "UJbLl20CepRl"
      },
      "source": [
        "#### I will drop two features with lowest coefficient: age, chol."
      ]
    },
    {
      "cell_type": "code",
      "execution_count": 21,
      "metadata": {
        "id": "W-m_PtGFg1-b"
      },
      "outputs": [],
      "source": [
        "X_train2 = X_train.drop(columns = ['age', 'chol'])\n",
        "X_test2 = X_test.drop(columns = ['age', 'chol'])"
      ]
    },
    {
      "cell_type": "markdown",
      "metadata": {
        "id": "Kgn2_dND3rZm"
      },
      "source": [
        "## Data Prediction\n",
        "As we need to minimize the numbers of people who actually are in risk for heart attack but got predicted as no risk, I will be prioritizing reducing False Negative (FN) and recall score."
      ]
    },
    {
      "cell_type": "markdown",
      "metadata": {
        "id": "xnEFmsIx3rZn"
      },
      "source": [
        "### Neural Network"
      ]
    },
    {
      "cell_type": "code",
      "execution_count": 22,
      "metadata": {
        "id": "5Nk0mKZFfRe-"
      },
      "outputs": [],
      "source": [
        "import torch\n",
        "from torch.utils.data import TensorDataset, DataLoader, random_split\n",
        "import torch.nn as nn\n",
        "import torch.optim as optim\n",
        "from sklearn.metrics import confusion_matrix, classification_report"
      ]
    },
    {
      "cell_type": "code",
      "execution_count": 23,
      "metadata": {
        "id": "4M5CzW0nmpr3"
      },
      "outputs": [],
      "source": [
        "features = torch.tensor(X_train2.to_numpy()).float()\n",
        "target = torch.tensor(y_train.to_numpy()).float()\n",
        "\n",
        "dataset = TensorDataset(features, target)\n",
        "train_size = int(0.8 * len(dataset))  # 80% for training\n",
        "val_size = len(dataset) - train_size  # 20% for validation\n",
        "\n",
        "train_dataset, val_dataset = random_split(dataset, [train_size, val_size])\n",
        "train_loader = DataLoader(train_dataset, batch_size=32)\n",
        "val_loader = DataLoader(val_dataset, batch_size=32)"
      ]
    },
    {
      "cell_type": "code",
      "execution_count": 24,
      "metadata": {
        "id": "oJT_Oq0IWiR4"
      },
      "outputs": [],
      "source": [
        "model = nn.Sequential(\n",
        "    nn.Linear(X_train2.shape[1], 10),\n",
        "    nn.ReLU(),\n",
        "    nn.BatchNorm1d(10), # Normalize the activations of each layer in a neural network.\n",
        "\n",
        "    nn.Linear(10, 20),\n",
        "    nn.ReLU(),\n",
        "    nn.BatchNorm1d(20),\n",
        "\n",
        "    nn.Linear(20, 2),\n",
        "    nn.Sigmoid()\n",
        ")\n",
        "\n",
        "criterion = nn.CrossEntropyLoss()\n",
        "\n",
        "# Adam automatically adjusts the learning rate with builit-in momentum-like behavior\n",
        "optimizer = optim.Adam(model.parameters(), lr=0.001, weight_decay=1e-3)\n",
        "# L2 Regularization (Weight Decay)"
      ]
    },
    {
      "cell_type": "code",
      "execution_count": 25,
      "metadata": {
        "colab": {
          "base_uri": "https://localhost:8080/"
        },
        "id": "QHSHiMaL3rZo",
        "outputId": "702052a6-4c4e-42b0-c1e8-0c4c26e8e197"
      },
      "outputs": [
        {
          "name": "stdout",
          "output_type": "stream",
          "text": [
            "Epoch 1/20 - Train Loss: 0.7162, Val Loss: 0.6822\n",
            "Epoch 2/20 - Train Loss: 0.7009, Val Loss: 0.6773\n",
            "Epoch 3/20 - Train Loss: 0.6872, Val Loss: 0.6725\n",
            "Epoch 4/20 - Train Loss: 0.6761, Val Loss: 0.6679\n",
            "Epoch 5/20 - Train Loss: 0.6660, Val Loss: 0.6591\n",
            "Epoch 6/20 - Train Loss: 0.6543, Val Loss: 0.6502\n",
            "Epoch 7/20 - Train Loss: 0.6458, Val Loss: 0.6407\n",
            "Epoch 8/20 - Train Loss: 0.6386, Val Loss: 0.6301\n",
            "Epoch 9/20 - Train Loss: 0.6319, Val Loss: 0.6204\n",
            "Epoch 10/20 - Train Loss: 0.6257, Val Loss: 0.6129\n",
            "Epoch 11/20 - Train Loss: 0.6199, Val Loss: 0.6062\n",
            "Epoch 12/20 - Train Loss: 0.6145, Val Loss: 0.5991\n",
            "Epoch 13/20 - Train Loss: 0.6098, Val Loss: 0.5937\n",
            "Epoch 14/20 - Train Loss: 0.6058, Val Loss: 0.5909\n",
            "Epoch 15/20 - Train Loss: 0.6022, Val Loss: 0.5897\n",
            "Epoch 16/20 - Train Loss: 0.5987, Val Loss: 0.5878\n",
            "Epoch 17/20 - Train Loss: 0.5950, Val Loss: 0.5868\n",
            "Epoch 18/20 - Train Loss: 0.5916, Val Loss: 0.5850\n",
            "Epoch 19/20 - Train Loss: 0.5885, Val Loss: 0.5805\n",
            "Epoch 20/20 - Train Loss: 0.5857, Val Loss: 0.5725\n"
          ]
        },
        {
          "data": {
            "text/plain": [
              "Sequential(\n",
              "  (0): Linear(in_features=11, out_features=10, bias=True)\n",
              "  (1): ReLU()\n",
              "  (2): BatchNorm1d(10, eps=1e-05, momentum=0.1, affine=True, track_running_stats=True)\n",
              "  (3): Linear(in_features=10, out_features=20, bias=True)\n",
              "  (4): ReLU()\n",
              "  (5): BatchNorm1d(20, eps=1e-05, momentum=0.1, affine=True, track_running_stats=True)\n",
              "  (6): Linear(in_features=20, out_features=2, bias=True)\n",
              "  (7): Sigmoid()\n",
              ")"
            ]
          },
          "execution_count": 25,
          "metadata": {},
          "output_type": "execute_result"
        }
      ],
      "source": [
        "num_epochs = 20\n",
        "train_loss = []\n",
        "val_loss = []\n",
        "\n",
        "for epoch in range(num_epochs):\n",
        "    model.train()\n",
        "    training_loss = 0.0\n",
        "\n",
        "    for data in train_loader:\n",
        "        # Set the gradients to zero\n",
        "        optimizer.zero_grad()\n",
        "        feature, target = data\n",
        "        pred = model(feature)\n",
        "\n",
        "        loss = criterion(pred, target.long())\n",
        "        loss.backward()\n",
        "        optimizer.step()\n",
        "\n",
        "        training_loss += loss.item()  # Accumulate batch losses\n",
        "\n",
        "    # Compute average training loss per epoch\n",
        "    epoch_train_loss = training_loss / len(train_loader)\n",
        "    train_loss.append(epoch_train_loss)\n",
        "\n",
        "    # Validation Phase\n",
        "    model.eval()  # Set model to evaluation mode\n",
        "    validation_loss = 0.0  # Reset before validation loop\n",
        "\n",
        "    with torch.no_grad():\n",
        "        for data in val_loader:\n",
        "            feature, target = data\n",
        "            pred = model(feature)\n",
        "\n",
        "            # Shift target to match model output range\n",
        "            loss = criterion(pred, target.long())\n",
        "\n",
        "            validation_loss += loss.item()  # Accumulate batch losses\n",
        "\n",
        "    # Compute average validation loss per epoch\n",
        "    epoch_val_loss = validation_loss / len(val_loader)\n",
        "    val_loss.append(epoch_val_loss)\n",
        "\n",
        "\n",
        "    print(f\"Epoch {epoch+1}/{num_epochs} - Train Loss: {epoch_train_loss:.4f}, Val Loss: {epoch_val_loss:.4f}\")\n",
        "\n",
        "model.train()"
      ]
    },
    {
      "cell_type": "code",
      "execution_count": 26,
      "metadata": {
        "id": "yby_xhFn3rZo"
      },
      "outputs": [],
      "source": [
        "features_test = torch.tensor(X_test2.to_numpy()).float()\n",
        "target_test = torch.tensor(y_test.to_numpy()).float()\n",
        "\n",
        "test_dataset = TensorDataset(features_test, target_test)\n",
        "test_loader = DataLoader(test_dataset, batch_size = 32)"
      ]
    },
    {
      "cell_type": "code",
      "execution_count": 27,
      "metadata": {
        "colab": {
          "base_uri": "https://localhost:8080/"
        },
        "id": "ovUJrMsOft5Q",
        "outputId": "66b4ea1e-dd1d-4fe8-a086-ece0cc58378d"
      },
      "outputs": [
        {
          "name": "stdout",
          "output_type": "stream",
          "text": [
            "Testing Loss: 0.5746\n"
          ]
        }
      ],
      "source": [
        "model.eval()\n",
        "\n",
        "testing_loss = 0.0\n",
        "correct = 0\n",
        "total = 0\n",
        "all_preds = []\n",
        "all_targets = []\n",
        "\n",
        "with torch.no_grad():\n",
        "    for data in test_loader:\n",
        "        feature, target = data\n",
        "        pred = model(feature)\n",
        "\n",
        "        loss = criterion(pred, target.long())\n",
        "        testing_loss += loss.item()\n",
        "\n",
        "        # Compute for Confusion Matrix and Classification report\n",
        "        _, predicted = torch.max(pred, 1) # Get class with highest probability\n",
        "        correct += (predicted == target).sum().item()\n",
        "        total += target.size(0)\n",
        "\n",
        "        # Store results for Confusion Matrix\n",
        "        all_preds.extend(predicted.cpu().numpy())\n",
        "        all_targets.extend(target.cpu().numpy())\n",
        "\n",
        "average_test_loss = testing_loss / len(test_loader)\n",
        "print(f'Testing Loss: {average_test_loss:.4f}')"
      ]
    },
    {
      "cell_type": "code",
      "execution_count": 28,
      "metadata": {
        "colab": {
          "base_uri": "https://localhost:8080/",
          "height": 472
        },
        "id": "pJJMSoeHfxqp",
        "outputId": "3bb455db-a57f-4438-920b-cb411cfd880b"
      },
      "outputs": [
        {
          "data": {
            "image/png": "[encoded data removed]",
            "text/plain": [
              "<Figure size 640x480 with 2 Axes>"
            ]
          },
          "metadata": {},
          "output_type": "display_data"
        }
      ],
      "source": [
        "conf_matrix = confusion_matrix(all_targets, all_preds)\n",
        "\n",
        "sns.heatmap(conf_matrix, annot=True, fmt=\"d\", cmap=\"Blues\")\n",
        "plt.xlabel(\"Predicted Labels\")\n",
        "plt.ylabel(\"True Labels\")\n",
        "plt.title(\"Confusion Matrix\")\n",
        "plt.show()"
      ]
    },
    {
      "cell_type": "code",
      "execution_count": 29,
      "metadata": {
        "colab": {
          "base_uri": "https://localhost:8080/"
        },
        "id": "6xg0gE78f8c8",
        "outputId": "3e6bf5c2-30f6-4513-804a-3a241949107d"
      },
      "outputs": [
        {
          "name": "stdout",
          "output_type": "stream",
          "text": [
            "              precision    recall  f1-score   support\n",
            "\n",
            "         0.0       0.75      0.71      0.73        42\n",
            "         1.0       0.76      0.80      0.78        49\n",
            "\n",
            "    accuracy                           0.76        91\n",
            "   macro avg       0.76      0.76      0.76        91\n",
            "weighted avg       0.76      0.76      0.76        91\n",
            "\n"
          ]
        }
      ],
      "source": [
        "class_report = classification_report(all_targets, all_preds)\n",
        "print(class_report)"
      ]
    },
    {
      "cell_type": "code",
      "execution_count": 30,
      "metadata": {
        "id": "NdP66DPzgAvy"
      },
      "outputs": [],
      "source": [
        "mean_train_loss = sum(train_loss) / len(train_loss)\n",
        "mean_val_loss = sum(val_loss) / len(val_loss)"
      ]
    },
    {
      "cell_type": "code",
      "execution_count": 31,
      "metadata": {
        "colab": {
          "base_uri": "https://localhost:8080/",
          "height": 487
        },
        "id": "paGpg67AgCVj",
        "outputId": "ff943df0-6642-4f99-ff12-24e430be0345"
      },
      "outputs": [
        {
          "data": {
            "image/png": "[encoded data removed]",
            "text/plain": [
              "<Figure size 800x500 with 1 Axes>"
            ]
          },
          "metadata": {},
          "output_type": "display_data"
        }
      ],
      "source": [
        "# Plot the Loss Curve\n",
        "plt.figure(figsize=(8, 5))\n",
        "plt.plot(range(1, num_epochs + 1), train_loss, label=f'Training Loss (Mean: {mean_train_loss:.4f})', marker='o')\n",
        "plt.plot(range(1, num_epochs + 1), val_loss, label=f'Validation Loss (Mean: {mean_val_loss:.4f})', marker='s')\n",
        "plt.xticks(range(0, 21, 2))\n",
        "\n",
        "plt.xlabel('Epochs')\n",
        "plt.ylabel('Loss')\n",
        "plt.title('Training & Validation Loss Over Epochs')\n",
        "plt.legend()\n",
        "plt.grid()\n",
        "plt.show()"
      ]
    },
    {
      "cell_type": "markdown",
      "metadata": {
        "id": "vsyMGFbzog4K"
      },
      "source": [
        "#### My model does not seem to overfit as shown in lower validation and testing loss than training loss. However, the loss is not small. Although the model has not much confidence but provided good recall score. This might be due to the fact that the dataset is so small."
      ]
    }
  ],
  "metadata": {
    "colab": {
      "provenance": []
    },
    "kernelspec": {
      "display_name": "Python 3",
      "language": "python",
      "name": "python3"
    },
    "language_info": {
      "codemirror_mode": {
        "name": "ipython",
        "version": 3
      },
      "file_extension": ".py",
      "mimetype": "text/x-python",
      "name": "python",
      "nbconvert_exporter": "python",
      "pygments_lexer": "ipython3",
      "version": "3.12.9"
    }
  },
  "nbformat": 4,
  "nbformat_minor": 0
}
